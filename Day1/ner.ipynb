{
 "cells": [
  {
   "cell_type": "code",
   "execution_count": 84,
   "metadata": {},
   "outputs": [],
   "source": [
    "from transformers import DistilBertTokenizer, DistilBertForTokenClassification, AutoTokenizer, DataCollatorForTokenClassification, Trainer, TrainingArguments\n",
    "\n",
    "from transformers import pipeline\n",
    "from torch.utils.data import Dataset, DataLoader\n",
    "\n"
   ]
  },
  {
   "cell_type": "code",
   "execution_count": 2,
   "metadata": {},
   "outputs": [
    {
     "name": "stderr",
     "output_type": "stream",
     "text": [
      "Some weights of the model checkpoint at distilbert-base-uncased were not used when initializing DistilBertForTokenClassification: ['vocab_projector.bias', 'vocab_transform.weight', 'vocab_layer_norm.bias', 'vocab_layer_norm.weight', 'vocab_transform.bias']\n",
      "- This IS expected if you are initializing DistilBertForTokenClassification from the checkpoint of a model trained on another task or with another architecture (e.g. initializing a BertForSequenceClassification model from a BertForPreTraining model).\n",
      "- This IS NOT expected if you are initializing DistilBertForTokenClassification from the checkpoint of a model that you expect to be exactly identical (initializing a BertForSequenceClassification model from a BertForSequenceClassification model).\n",
      "Some weights of DistilBertForTokenClassification were not initialized from the model checkpoint at distilbert-base-uncased and are newly initialized: ['classifier.bias', 'classifier.weight']\n",
      "You should probably TRAIN this model on a down-stream task to be able to use it for predictions and inference.\n"
     ]
    }
   ],
   "source": [
    "# Load pre-trained DistilBERT model and tokenizer\n",
    "model_name = \"distilbert-base-uncased\"\n",
    "model = DistilBertForTokenClassification.from_pretrained(model_name)\n",
    "tokenizer = AutoTokenizer.from_pretrained(model_name)\n"
   ]
  },
  {
   "cell_type": "code",
   "execution_count": 80,
   "metadata": {},
   "outputs": [],
   "source": [
    "# Example raw text and entity offsets\n",
    "data = [\n",
    "    {\n",
    "        \"text\": \"Apple is looking to buy a U.K. startup for $1 billion.\",\n",
    "        \"annotations\": [(0, 5, \"ORG\"), (26, 30, \"LOC\"), (43, 53, \"MONEY\")]\n",
    "    },\n",
    "    {\n",
    "        \"text\": \"Elon Musk founded SpaceX and Tesla.\",\n",
    "        \"annotations\": [(0, 9, \"PERSON\"), (18, 24, \"ORG\"), (29, 34, \"ORG\")]\n",
    "    },\n",
    "        {\n",
    "        \"text\": \"Apple is looking to buy a U.K. startup for $1 billion.\",\n",
    "        \"annotations\": [(0, 5, \"ORG\"), (26, 30, \"LOC\"), (43, 53, \"MONEY\")]\n",
    "    },\n",
    "    {\n",
    "        \"text\": \"Elon Musk founded SpaceX and Tesla.\",\n",
    "        \"annotations\": [(0, 9, \"PERSON\"), (18, 24, \"ORG\"), (29, 34, \"ORG\")]\n",
    "    }\n",
    "]\n",
    "\n",
    "\n"
   ]
  },
  {
   "cell_type": "code",
   "execution_count": 95,
   "metadata": {},
   "outputs": [],
   "source": [
    "\n",
    "\n",
    "\n",
    "class NERDataset(Dataset):\n",
    "    def __init__(self, data_json, tokenizer, label_map) -> None:\n",
    "        self.data = data_json\n",
    "        self.tokenizer = tokenizer\n",
    "        self.label_map = label_map\n",
    "        \n",
    "    def __len__(self):\n",
    "        return len(self.data)\n",
    "    \n",
    "    def __getitem__(self, index):\n",
    "        item = self.data[index]\n",
    "        text = item['text']\n",
    "        annots = item['annotations']\n",
    "        tokenized_text = self.tokenizer(text)\n",
    "        \n",
    "        iob_tags = ['O'] * len(tokenized_text.tokens())\n",
    "        \n",
    "        for start_offset, end_offset, label in annots:\n",
    "            # converting offsets based on char indices to token indices\n",
    "            start_token_index = tokenized_text.char_to_token(start_offset)\n",
    "            end_token_index = tokenized_text.char_to_token(end_offset - 1) # exclusive\n",
    "            \n",
    "            iob_tags[start_token_index] = f\"B-{label}\"\n",
    "            \n",
    "            for token_index in range(start_token_index + 1, end_token_index + 1):\n",
    "                iob_tags[token_index] = f\"I-{label}\"\n",
    "        \n",
    "        label_indices = [label_map[label] for label in iob_tags]\n",
    "            \n",
    "        return {\n",
    "            # 'text' : text,\n",
    "            'attention_mask' : tokenized_text['attention_mask'],\n",
    "            'input_ids' : tokenized_text['input_ids'],\n",
    "            'labels' : label_indices\n",
    "            \n",
    "            # 'tokens' : tokenized_text.tokens() # for debugging only, can be commented out\n",
    "        }\n",
    "\n",
    "\n",
    "def generate_label_map():\n",
    "    return {\n",
    "    \"O\": 0,  # Outside\n",
    "    \"B-ORG\": 1,\n",
    "    \"I-ORG\": 2,\n",
    "    \"B-LOC\": 3,\n",
    "    \"I-LOC\": 4,\n",
    "    \"B-PERSON\": 5,\n",
    "    \"I-PERSON\": 6,\n",
    "    \"B-MONEY\": 7,\n",
    "    \"I-MONEY\": 8,\n",
    "}\n",
    "\n",
    "\n",
    "label_map = generate_label_map()            \n",
    "\n",
    "ner_dataset = NERDataset(data, tokenizer, label_map)\n",
    "eval_dataset = NERDataset(data, tokenizer, label_map)\n",
    "\n"
   ]
  },
  {
   "cell_type": "code",
   "execution_count": 96,
   "metadata": {},
   "outputs": [],
   "source": [
    "data_collator = DataCollatorForTokenClassification(tokenizer=tokenizer, padding=True)\n",
    "dataloader = DataLoader(ner_dataset, batch_size=2, collate_fn=data_collator)\n"
   ]
  },
  {
   "cell_type": "code",
   "execution_count": 97,
   "metadata": {},
   "outputs": [
    {
     "data": {
      "text/plain": [
       "{'attention_mask': tensor([[1, 1, 1, 1, 1, 1, 1, 1, 1, 1, 1, 1, 1, 1, 1, 1, 1, 1],\n",
       "        [1, 1, 1, 1, 1, 1, 1, 1, 1, 1, 1, 1, 0, 0, 0, 0, 0, 0]]), 'input_ids': tensor([[  101,  6207,  2003,  2559,  2000,  4965,  1037,  1057,  1012,  1047,\n",
       "          1012, 22752,  2005,  1002,  1015,  4551,  1012,   102],\n",
       "        [  101,  3449,  2239, 14163,  6711,  2631,  2686,  2595,  1998, 26060,\n",
       "          1012,   102,     0,     0,     0,     0,     0,     0]]), 'labels': tensor([[   0,    1,    0,    0,    0,    0,    0,    3,    4,    4,    4,    0,\n",
       "            0,    7,    8,    8,    0,    0],\n",
       "        [   0,    5,    6,    6,    6,    0,    1,    2,    0,    1,    0,    0,\n",
       "         -100, -100, -100, -100, -100, -100]])}"
      ]
     },
     "execution_count": 97,
     "metadata": {},
     "output_type": "execute_result"
    }
   ],
   "source": [
    "next(iter(dataloader))"
   ]
  },
  {
   "cell_type": "code",
   "execution_count": 100,
   "metadata": {},
   "outputs": [
    {
     "data": {
      "application/vnd.jupyter.widget-view+json": {
       "model_id": "557b5312e4364c189ede001e26bfc8d5",
       "version_major": 2,
       "version_minor": 0
      },
      "text/plain": [
       "  0%|          | 0/60 [00:00<?, ?it/s]"
      ]
     },
     "metadata": {},
     "output_type": "display_data"
    },
    {
     "data": {
      "application/vnd.jupyter.widget-view+json": {
       "model_id": "9f3d41fbc3bb4bb1bd429c34cdebc428",
       "version_major": 2,
       "version_minor": 0
      },
      "text/plain": [
       "  0%|          | 0/1 [00:00<?, ?it/s]"
      ]
     },
     "metadata": {},
     "output_type": "display_data"
    },
    {
     "name": "stdout",
     "output_type": "stream",
     "text": [
      "{'eval_loss': 0.00023971761402208358, 'eval_runtime': 0.0423, 'eval_samples_per_second': 94.664, 'eval_steps_per_second': 23.666, 'epoch': 1.0}\n"
     ]
    },
    {
     "data": {
      "application/vnd.jupyter.widget-view+json": {
       "model_id": "21075ef35e294b709fc96f41f331d99e",
       "version_major": 2,
       "version_minor": 0
      },
      "text/plain": [
       "  0%|          | 0/1 [00:00<?, ?it/s]"
      ]
     },
     "metadata": {},
     "output_type": "display_data"
    },
    {
     "name": "stdout",
     "output_type": "stream",
     "text": [
      "{'eval_loss': 0.00011524301953613758, 'eval_runtime': 0.0429, 'eval_samples_per_second': 93.273, 'eval_steps_per_second': 23.318, 'epoch': 2.0}\n"
     ]
    },
    {
     "data": {
      "application/vnd.jupyter.widget-view+json": {
       "model_id": "8a89f4cea5b24e42a393b9826815d566",
       "version_major": 2,
       "version_minor": 0
      },
      "text/plain": [
       "  0%|          | 0/1 [00:00<?, ?it/s]"
      ]
     },
     "metadata": {},
     "output_type": "display_data"
    },
    {
     "name": "stdout",
     "output_type": "stream",
     "text": [
      "{'eval_loss': 5.473521741805598e-05, 'eval_runtime': 0.0521, 'eval_samples_per_second': 76.754, 'eval_steps_per_second': 19.189, 'epoch': 3.0}\n"
     ]
    },
    {
     "data": {
      "application/vnd.jupyter.widget-view+json": {
       "model_id": "17da5cc018114fdfaaaa387907ef8b67",
       "version_major": 2,
       "version_minor": 0
      },
      "text/plain": [
       "  0%|          | 0/1 [00:00<?, ?it/s]"
      ]
     },
     "metadata": {},
     "output_type": "display_data"
    },
    {
     "name": "stdout",
     "output_type": "stream",
     "text": [
      "{'eval_loss': 3.251015004934743e-05, 'eval_runtime': 0.0546, 'eval_samples_per_second': 73.29, 'eval_steps_per_second': 18.322, 'epoch': 4.0}\n"
     ]
    },
    {
     "data": {
      "application/vnd.jupyter.widget-view+json": {
       "model_id": "cf2a8e8039d54fb99b5c6eb65cee164a",
       "version_major": 2,
       "version_minor": 0
      },
      "text/plain": [
       "  0%|          | 0/1 [00:00<?, ?it/s]"
      ]
     },
     "metadata": {},
     "output_type": "display_data"
    },
    {
     "name": "stdout",
     "output_type": "stream",
     "text": [
      "{'eval_loss': 2.2197520593181252e-05, 'eval_runtime': 0.0501, 'eval_samples_per_second': 79.88, 'eval_steps_per_second': 19.97, 'epoch': 5.0}\n"
     ]
    },
    {
     "data": {
      "application/vnd.jupyter.widget-view+json": {
       "model_id": "121ff1d38a124e3b958017bd168ee145",
       "version_major": 2,
       "version_minor": 0
      },
      "text/plain": [
       "  0%|          | 0/1 [00:00<?, ?it/s]"
      ]
     },
     "metadata": {},
     "output_type": "display_data"
    },
    {
     "name": "stdout",
     "output_type": "stream",
     "text": [
      "{'eval_loss': 1.688627162366174e-05, 'eval_runtime': 0.0461, 'eval_samples_per_second': 86.838, 'eval_steps_per_second': 21.709, 'epoch': 6.0}\n"
     ]
    },
    {
     "data": {
      "application/vnd.jupyter.widget-view+json": {
       "model_id": "c81f609df97145b0a4faf6e745f539a6",
       "version_major": 2,
       "version_minor": 0
      },
      "text/plain": [
       "  0%|          | 0/1 [00:00<?, ?it/s]"
      ]
     },
     "metadata": {},
     "output_type": "display_data"
    },
    {
     "name": "stdout",
     "output_type": "stream",
     "text": [
      "{'eval_loss': 1.3604042578663211e-05, 'eval_runtime': 0.0491, 'eval_samples_per_second': 81.508, 'eval_steps_per_second': 20.377, 'epoch': 7.0}\n"
     ]
    },
    {
     "data": {
      "application/vnd.jupyter.widget-view+json": {
       "model_id": "18d438f43c784728a61075b16ede29ae",
       "version_major": 2,
       "version_minor": 0
      },
      "text/plain": [
       "  0%|          | 0/1 [00:00<?, ?it/s]"
      ]
     },
     "metadata": {},
     "output_type": "display_data"
    },
    {
     "name": "stdout",
     "output_type": "stream",
     "text": [
      "{'eval_loss': 1.1301890481263399e-05, 'eval_runtime': 0.0499, 'eval_samples_per_second': 80.207, 'eval_steps_per_second': 20.052, 'epoch': 8.0}\n"
     ]
    },
    {
     "data": {
      "application/vnd.jupyter.widget-view+json": {
       "model_id": "d66addf5457f444fb9b731e7c7119981",
       "version_major": 2,
       "version_minor": 0
      },
      "text/plain": [
       "  0%|          | 0/1 [00:00<?, ?it/s]"
      ]
     },
     "metadata": {},
     "output_type": "display_data"
    },
    {
     "name": "stdout",
     "output_type": "stream",
     "text": [
      "{'eval_loss': 9.630936801841017e-06, 'eval_runtime': 0.0487, 'eval_samples_per_second': 82.07, 'eval_steps_per_second': 20.517, 'epoch': 9.0}\n"
     ]
    },
    {
     "data": {
      "application/vnd.jupyter.widget-view+json": {
       "model_id": "6f66920c9e2a4386a052e5c350d0e5e1",
       "version_major": 2,
       "version_minor": 0
      },
      "text/plain": [
       "  0%|          | 0/1 [00:00<?, ?it/s]"
      ]
     },
     "metadata": {},
     "output_type": "display_data"
    },
    {
     "name": "stdout",
     "output_type": "stream",
     "text": [
      "{'eval_loss': 8.467237421427853e-06, 'eval_runtime': 0.0732, 'eval_samples_per_second': 54.642, 'eval_steps_per_second': 13.66, 'epoch': 10.0}\n"
     ]
    },
    {
     "data": {
      "application/vnd.jupyter.widget-view+json": {
       "model_id": "29e2e1b338b34508a466f4c9891dc07e",
       "version_major": 2,
       "version_minor": 0
      },
      "text/plain": [
       "  0%|          | 0/1 [00:00<?, ?it/s]"
      ]
     },
     "metadata": {},
     "output_type": "display_data"
    },
    {
     "name": "stdout",
     "output_type": "stream",
     "text": [
      "{'eval_loss': 7.63635034672916e-06, 'eval_runtime': 0.0493, 'eval_samples_per_second': 81.18, 'eval_steps_per_second': 20.295, 'epoch': 11.0}\n"
     ]
    },
    {
     "data": {
      "application/vnd.jupyter.widget-view+json": {
       "model_id": "2be976680dca4cfa9c54e9812dc37091",
       "version_major": 2,
       "version_minor": 0
      },
      "text/plain": [
       "  0%|          | 0/1 [00:00<?, ?it/s]"
      ]
     },
     "metadata": {},
     "output_type": "display_data"
    },
    {
     "name": "stdout",
     "output_type": "stream",
     "text": [
      "{'eval_loss': 7.018923952273326e-06, 'eval_runtime': 0.049, 'eval_samples_per_second': 81.613, 'eval_steps_per_second': 20.403, 'epoch': 12.0}\n"
     ]
    },
    {
     "data": {
      "application/vnd.jupyter.widget-view+json": {
       "model_id": "7b26a66dd34644b888f64bffd0769cf0",
       "version_major": 2,
       "version_minor": 0
      },
      "text/plain": [
       "  0%|          | 0/1 [00:00<?, ?it/s]"
      ]
     },
     "metadata": {},
     "output_type": "display_data"
    },
    {
     "name": "stdout",
     "output_type": "stream",
     "text": [
      "{'eval_loss': 6.550689704454271e-06, 'eval_runtime': 0.0447, 'eval_samples_per_second': 89.56, 'eval_steps_per_second': 22.39, 'epoch': 13.0}\n"
     ]
    },
    {
     "data": {
      "application/vnd.jupyter.widget-view+json": {
       "model_id": "2e746fd25fb44b2891dba32ff5e11977",
       "version_major": 2,
       "version_minor": 0
      },
      "text/plain": [
       "  0%|          | 0/1 [00:00<?, ?it/s]"
      ]
     },
     "metadata": {},
     "output_type": "display_data"
    },
    {
     "name": "stdout",
     "output_type": "stream",
     "text": [
      "{'eval_loss': 6.18115154793486e-06, 'eval_runtime': 0.0624, 'eval_samples_per_second': 64.128, 'eval_steps_per_second': 16.032, 'epoch': 14.0}\n"
     ]
    },
    {
     "data": {
      "application/vnd.jupyter.widget-view+json": {
       "model_id": "514a4e7332254b7ba305ac22ec95966c",
       "version_major": 2,
       "version_minor": 0
      },
      "text/plain": [
       "  0%|          | 0/1 [00:00<?, ?it/s]"
      ]
     },
     "metadata": {},
     "output_type": "display_data"
    },
    {
     "name": "stdout",
     "output_type": "stream",
     "text": [
      "{'eval_loss': 5.878176580154104e-06, 'eval_runtime': 0.0495, 'eval_samples_per_second': 80.836, 'eval_steps_per_second': 20.209, 'epoch': 15.0}\n"
     ]
    },
    {
     "data": {
      "application/vnd.jupyter.widget-view+json": {
       "model_id": "1d6c48c6dd8e42459735485cf77e66ac",
       "version_major": 2,
       "version_minor": 0
      },
      "text/plain": [
       "  0%|          | 0/1 [00:00<?, ?it/s]"
      ]
     },
     "metadata": {},
     "output_type": "display_data"
    },
    {
     "name": "stdout",
     "output_type": "stream",
     "text": [
      "{'eval_loss': 5.611926098936237e-06, 'eval_runtime': 0.0492, 'eval_samples_per_second': 81.25, 'eval_steps_per_second': 20.312, 'epoch': 16.0}\n"
     ]
    },
    {
     "data": {
      "application/vnd.jupyter.widget-view+json": {
       "model_id": "8c713a2581424c3dad04d20c5b098cbc",
       "version_major": 2,
       "version_minor": 0
      },
      "text/plain": [
       "  0%|          | 0/1 [00:00<?, ?it/s]"
      ]
     },
     "metadata": {},
     "output_type": "display_data"
    },
    {
     "name": "stdout",
     "output_type": "stream",
     "text": [
      "{'eval_loss': 5.4007614380680025e-06, 'eval_runtime': 0.0413, 'eval_samples_per_second': 96.951, 'eval_steps_per_second': 24.238, 'epoch': 17.0}\n"
     ]
    },
    {
     "data": {
      "application/vnd.jupyter.widget-view+json": {
       "model_id": "7714e66a886c4ef9a7265ebad3fb9fcd",
       "version_major": 2,
       "version_minor": 0
      },
      "text/plain": [
       "  0%|          | 0/1 [00:00<?, ?it/s]"
      ]
     },
     "metadata": {},
     "output_type": "display_data"
    },
    {
     "name": "stdout",
     "output_type": "stream",
     "text": [
      "{'eval_loss': 5.21254924024106e-06, 'eval_runtime': 0.0508, 'eval_samples_per_second': 78.689, 'eval_steps_per_second': 19.672, 'epoch': 18.0}\n"
     ]
    },
    {
     "data": {
      "application/vnd.jupyter.widget-view+json": {
       "model_id": "0438090f308e4c868a756325f348fe7e",
       "version_major": 2,
       "version_minor": 0
      },
      "text/plain": [
       "  0%|          | 0/1 [00:00<?, ?it/s]"
      ]
     },
     "metadata": {},
     "output_type": "display_data"
    },
    {
     "name": "stdout",
     "output_type": "stream",
     "text": [
      "{'eval_loss': 5.044995305070188e-06, 'eval_runtime': 0.0492, 'eval_samples_per_second': 81.306, 'eval_steps_per_second': 20.326, 'epoch': 19.0}\n"
     ]
    },
    {
     "data": {
      "application/vnd.jupyter.widget-view+json": {
       "model_id": "a294cba5e2374cb286333514702f3dcd",
       "version_major": 2,
       "version_minor": 0
      },
      "text/plain": [
       "  0%|          | 0/1 [00:00<?, ?it/s]"
      ]
     },
     "metadata": {},
     "output_type": "display_data"
    },
    {
     "name": "stdout",
     "output_type": "stream",
     "text": [
      "{'eval_loss': 4.918755621474702e-06, 'eval_runtime': 0.0496, 'eval_samples_per_second': 80.714, 'eval_steps_per_second': 20.178, 'epoch': 20.0}\n"
     ]
    },
    {
     "data": {
      "application/vnd.jupyter.widget-view+json": {
       "model_id": "080eb41dc33641fea86a1579719f3ad1",
       "version_major": 2,
       "version_minor": 0
      },
      "text/plain": [
       "  0%|          | 0/1 [00:00<?, ?it/s]"
      ]
     },
     "metadata": {},
     "output_type": "display_data"
    },
    {
     "name": "stdout",
     "output_type": "stream",
     "text": [
      "{'eval_loss': 4.8108781811606605e-06, 'eval_runtime': 0.0625, 'eval_samples_per_second': 64.031, 'eval_steps_per_second': 16.008, 'epoch': 21.0}\n"
     ]
    },
    {
     "data": {
      "application/vnd.jupyter.widget-view+json": {
       "model_id": "4a9fcd8b02fb4cb6ac088fb19f1d4e82",
       "version_major": 2,
       "version_minor": 0
      },
      "text/plain": [
       "  0%|          | 0/1 [00:00<?, ?it/s]"
      ]
     },
     "metadata": {},
     "output_type": "display_data"
    },
    {
     "name": "stdout",
     "output_type": "stream",
     "text": [
      "{'eval_loss': 4.719067419500789e-06, 'eval_runtime': 0.0535, 'eval_samples_per_second': 74.796, 'eval_steps_per_second': 18.699, 'epoch': 22.0}\n"
     ]
    },
    {
     "data": {
      "application/vnd.jupyter.widget-view+json": {
       "model_id": "c655b809f78541ff9ac02aec0350f611",
       "version_major": 2,
       "version_minor": 0
      },
      "text/plain": [
       "  0%|          | 0/1 [00:00<?, ?it/s]"
      ]
     },
     "metadata": {},
     "output_type": "display_data"
    },
    {
     "name": "stdout",
     "output_type": "stream",
     "text": [
      "{'eval_loss': 4.636438006855315e-06, 'eval_runtime': 0.049, 'eval_samples_per_second': 81.686, 'eval_steps_per_second': 20.422, 'epoch': 23.0}\n"
     ]
    },
    {
     "data": {
      "application/vnd.jupyter.widget-view+json": {
       "model_id": "d0f2dca35e134fd78f0d403fa34bcbf6",
       "version_major": 2,
       "version_minor": 0
      },
      "text/plain": [
       "  0%|          | 0/1 [00:00<?, ?it/s]"
      ]
     },
     "metadata": {},
     "output_type": "display_data"
    },
    {
     "name": "stdout",
     "output_type": "stream",
     "text": [
      "{'eval_loss': 4.574465947371209e-06, 'eval_runtime': 0.0509, 'eval_samples_per_second': 78.64, 'eval_steps_per_second': 19.66, 'epoch': 24.0}\n"
     ]
    },
    {
     "data": {
      "application/vnd.jupyter.widget-view+json": {
       "model_id": "196913f947b647f7822fe3c3b38ada02",
       "version_major": 2,
       "version_minor": 0
      },
      "text/plain": [
       "  0%|          | 0/1 [00:00<?, ?it/s]"
      ]
     },
     "metadata": {},
     "output_type": "display_data"
    },
    {
     "name": "stdout",
     "output_type": "stream",
     "text": [
      "{'eval_loss': 4.53315033155377e-06, 'eval_runtime': 0.05, 'eval_samples_per_second': 79.974, 'eval_steps_per_second': 19.994, 'epoch': 25.0}\n"
     ]
    },
    {
     "data": {
      "application/vnd.jupyter.widget-view+json": {
       "model_id": "2e3d0b53069e4b6c9d93abfff3afeaec",
       "version_major": 2,
       "version_minor": 0
      },
      "text/plain": [
       "  0%|          | 0/1 [00:00<?, ?it/s]"
      ]
     },
     "metadata": {},
     "output_type": "display_data"
    },
    {
     "name": "stdout",
     "output_type": "stream",
     "text": [
      "{'eval_loss': 4.491836079978384e-06, 'eval_runtime': 0.0499, 'eval_samples_per_second': 80.2, 'eval_steps_per_second': 20.05, 'epoch': 26.0}\n"
     ]
    },
    {
     "data": {
      "application/vnd.jupyter.widget-view+json": {
       "model_id": "c6203be7c07e4a059311792c0ce11ed0",
       "version_major": 2,
       "version_minor": 0
      },
      "text/plain": [
       "  0%|          | 0/1 [00:00<?, ?it/s]"
      ]
     },
     "metadata": {},
     "output_type": "display_data"
    },
    {
     "name": "stdout",
     "output_type": "stream",
     "text": [
      "{'eval_loss': 4.452816483535571e-06, 'eval_runtime': 0.0506, 'eval_samples_per_second': 79.105, 'eval_steps_per_second': 19.776, 'epoch': 27.0}\n"
     ]
    },
    {
     "data": {
      "application/vnd.jupyter.widget-view+json": {
       "model_id": "b139a9baeee841908adea11fa1310b2c",
       "version_major": 2,
       "version_minor": 0
      },
      "text/plain": [
       "  0%|          | 0/1 [00:00<?, ?it/s]"
      ]
     },
     "metadata": {},
     "output_type": "display_data"
    },
    {
     "name": "stdout",
     "output_type": "stream",
     "text": [
      "{'eval_loss': 4.425272891239729e-06, 'eval_runtime': 0.0629, 'eval_samples_per_second': 63.582, 'eval_steps_per_second': 15.895, 'epoch': 28.0}\n"
     ]
    },
    {
     "data": {
      "application/vnd.jupyter.widget-view+json": {
       "model_id": "c7761cb20ed4435ca8b9b3d41c461a5a",
       "version_major": 2,
       "version_minor": 0
      },
      "text/plain": [
       "  0%|          | 0/1 [00:00<?, ?it/s]"
      ]
     },
     "metadata": {},
     "output_type": "display_data"
    },
    {
     "name": "stdout",
     "output_type": "stream",
     "text": [
      "{'eval_loss': 4.413797341840109e-06, 'eval_runtime': 0.0531, 'eval_samples_per_second': 75.31, 'eval_steps_per_second': 18.827, 'epoch': 29.0}\n"
     ]
    },
    {
     "data": {
      "application/vnd.jupyter.widget-view+json": {
       "model_id": "db2b90f167b647aca3e8cc497ff2e0d6",
       "version_major": 2,
       "version_minor": 0
      },
      "text/plain": [
       "  0%|          | 0/1 [00:00<?, ?it/s]"
      ]
     },
     "metadata": {},
     "output_type": "display_data"
    },
    {
     "name": "stdout",
     "output_type": "stream",
     "text": [
      "{'eval_loss': 4.406911557452986e-06, 'eval_runtime': 0.0504, 'eval_samples_per_second': 79.401, 'eval_steps_per_second': 19.85, 'epoch': 30.0}\n",
      "{'train_runtime': 7.9281, 'train_samples_per_second': 15.136, 'train_steps_per_second': 7.568, 'train_loss': 5.093542858958244e-05, 'epoch': 30.0}\n"
     ]
    },
    {
     "data": {
      "text/plain": [
       "TrainOutput(global_step=60, training_loss=5.093542858958244e-05, metrics={'train_runtime': 7.9281, 'train_samples_per_second': 15.136, 'train_steps_per_second': 7.568, 'train_loss': 5.093542858958244e-05, 'epoch': 30.0})"
      ]
     },
     "execution_count": 100,
     "metadata": {},
     "output_type": "execute_result"
    }
   ],
   "source": [
    "# Training arguments\n",
    "training_args = TrainingArguments(\n",
    "    output_dir=\"./ner_output\",\n",
    "    overwrite_output_dir=True,\n",
    "    num_train_epochs=30,\n",
    "    per_device_train_batch_size=2,\n",
    "    save_steps=500,\n",
    "    save_total_limit=2,\n",
    "    evaluation_strategy=\"epoch\",\n",
    "    logging_dir=\"./logs\",\n",
    "    use_mps_device=True\n",
    "   \n",
    ")\n",
    "\n",
    "# Initialize the Trainer\n",
    "trainer = Trainer(\n",
    "    model=model,\n",
    "    args=training_args,\n",
    "    train_dataset=ner_dataset,\n",
    "    eval_dataset=eval_dataset,\n",
    "    data_collator=data_collator)\n",
    "\n",
    "# Start training\n",
    "trainer.train()"
   ]
  },
  {
   "cell_type": "code",
   "execution_count": null,
   "metadata": {},
   "outputs": [],
   "source": []
  }
 ],
 "metadata": {
  "kernelspec": {
   "display_name": "Python 3",
   "language": "python",
   "name": "python3"
  },
  "language_info": {
   "codemirror_mode": {
    "name": "ipython",
    "version": 3
   },
   "file_extension": ".py",
   "mimetype": "text/x-python",
   "name": "python",
   "nbconvert_exporter": "python",
   "pygments_lexer": "ipython3",
   "version": "3.9.6"
  },
  "orig_nbformat": 4
 },
 "nbformat": 4,
 "nbformat_minor": 2
}
